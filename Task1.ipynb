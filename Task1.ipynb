{
 "cells": [
  {
   "cell_type": "markdown",
   "metadata": {},
   "source": [
    "# Introduction\n",
    "\n",
    "The following code implements a solution to the multiclass classification problem of assigning an iris flower to its species based on the size of its petals and sepals. The Iris flower data set consists of 50 samples from each of three species: *Iris setosa*, *Iris virginica* and *Iris versicolor*. In this case, data set was simulated to be gathered neglectfully, which resulted in some faulty values that needed to be fixed before training a model.\n",
    "\n",
    "The data set is not large nor especially complex, which enables the use of rather simple machine learning algorithms of classification (as opposed to deep learning methods, for example neural networks). In this project, 5 different algorithms were trained and compared in order to find the one offering the best quality of fit and simplicity. The final model's performance was then assessed and reported.\n",
    "\n",
    "The code for this project was implemented using scikit-learn library. Aurélien Géron's \"Hands-On Machine Learning with Scikit-Learn and Tensorflow\" was primarly used as a reference."
   ]
  },
  {
   "cell_type": "code",
   "execution_count": 2,
   "metadata": {},
   "outputs": [],
   "source": [
    "import os\n",
    "import pandas as pd\n",
    "import numpy as np"
   ]
  },
  {
   "cell_type": "code",
   "execution_count": 3,
   "metadata": {},
   "outputs": [],
   "source": [
    "def load_data(data_path, filename, separator = \",\", header = None, index_col = None):\n",
    "    file_path = os.path.join(data_path, filename)\n",
    "    return pd.read_csv(file_path, sep = separator, header = header, index_col = index_col)"
   ]
  },
  {
   "cell_type": "code",
   "execution_count": 4,
   "metadata": {},
   "outputs": [
    {
     "data": {
      "text/html": [
       "<div>\n",
       "<style scoped>\n",
       "    .dataframe tbody tr th:only-of-type {\n",
       "        vertical-align: middle;\n",
       "    }\n",
       "\n",
       "    .dataframe tbody tr th {\n",
       "        vertical-align: top;\n",
       "    }\n",
       "\n",
       "    .dataframe thead th {\n",
       "        text-align: right;\n",
       "    }\n",
       "</style>\n",
       "<table border=\"1\" class=\"dataframe\">\n",
       "  <thead>\n",
       "    <tr style=\"text-align: right;\">\n",
       "      <th></th>\n",
       "      <th>Sepal.Length</th>\n",
       "      <th>Sepal.Width</th>\n",
       "      <th>Petal.Length</th>\n",
       "      <th>Petal.Width</th>\n",
       "      <th>Species</th>\n",
       "    </tr>\n",
       "  </thead>\n",
       "  <tbody>\n",
       "    <tr>\n",
       "      <th>1</th>\n",
       "      <td>5.1</td>\n",
       "      <td>3.5</td>\n",
       "      <td>1.4</td>\n",
       "      <td>0.2</td>\n",
       "      <td>setosa</td>\n",
       "    </tr>\n",
       "    <tr>\n",
       "      <th>2</th>\n",
       "      <td>4.9</td>\n",
       "      <td>3.0</td>\n",
       "      <td>1.4</td>\n",
       "      <td>0.2</td>\n",
       "      <td>setosa</td>\n",
       "    </tr>\n",
       "    <tr>\n",
       "      <th>3</th>\n",
       "      <td>4.7</td>\n",
       "      <td>3.2</td>\n",
       "      <td>1.3</td>\n",
       "      <td>0.2</td>\n",
       "      <td>setosa</td>\n",
       "    </tr>\n",
       "    <tr>\n",
       "      <th>4</th>\n",
       "      <td>4.6</td>\n",
       "      <td>3.1</td>\n",
       "      <td>1.5</td>\n",
       "      <td>0.2</td>\n",
       "      <td>setosa</td>\n",
       "    </tr>\n",
       "    <tr>\n",
       "      <th>5</th>\n",
       "      <td>5.0</td>\n",
       "      <td>3.6</td>\n",
       "      <td>1.4</td>\n",
       "      <td>0.2</td>\n",
       "      <td>setosa</td>\n",
       "    </tr>\n",
       "  </tbody>\n",
       "</table>\n",
       "</div>"
      ],
      "text/plain": [
       "   Sepal.Length  Sepal.Width  Petal.Length Petal.Width Species\n",
       "1           5.1          3.5           1.4         0.2  setosa\n",
       "2           4.9          3.0           1.4         0.2  setosa\n",
       "3           4.7          3.2           1.3         0.2  setosa\n",
       "4           4.6          3.1           1.5         0.2  setosa\n",
       "5           5.0          3.6           1.4         0.2  setosa"
      ]
     },
     "execution_count": 4,
     "metadata": {},
     "output_type": "execute_result"
    }
   ],
   "source": [
    "input_data = load_data(os.path.abspath(''), \n",
    "                       'Graduate - IRISES dataset (2019-06).csv', \n",
    "                       separator = \"|\", \n",
    "                       header = 0,\n",
    "                       index_col = 0)\n",
    "\n",
    "input_data.head()"
   ]
  },
  {
   "cell_type": "code",
   "execution_count": 5,
   "metadata": {},
   "outputs": [
    {
     "name": "stdout",
     "output_type": "stream",
     "text": [
      "<class 'pandas.core.frame.DataFrame'>\n",
      "Int64Index: 150 entries, 1 to 150\n",
      "Data columns (total 5 columns):\n",
      "Sepal.Length    150 non-null float64\n",
      "Sepal.Width     149 non-null float64\n",
      "Petal.Length    150 non-null float64\n",
      "Petal.Width     150 non-null object\n",
      "Species         150 non-null object\n",
      "dtypes: float64(3), object(2)\n",
      "memory usage: 7.0+ KB\n"
     ]
    }
   ],
   "source": [
    "input_data.info()"
   ]
  },
  {
   "cell_type": "markdown",
   "metadata": {},
   "source": [
    "The data set was inspected to contain 5 columns, 4 with flowers' features and 1 with their labels. Firstly, 'Petal.Width' feature was imported as an 'object' type, even though it is a regular float64 value. That needed to be fixed before continuing with data exploration. "
   ]
  },
  {
   "cell_type": "code",
   "execution_count": 6,
   "metadata": {},
   "outputs": [
    {
     "name": "stdout",
     "output_type": "stream",
     "text": [
      "<class 'pandas.core.frame.DataFrame'>\n",
      "Int64Index: 150 entries, 1 to 150\n",
      "Data columns (total 5 columns):\n",
      "Sepal.Length    150 non-null float64\n",
      "Sepal.Width     149 non-null float64\n",
      "Petal.Length    150 non-null float64\n",
      "Petal.Width     149 non-null float64\n",
      "Species         150 non-null object\n",
      "dtypes: float64(4), object(1)\n",
      "memory usage: 7.0+ KB\n"
     ]
    }
   ],
   "source": [
    "input_data['Petal.Width'] = pd.to_numeric(input_data['Petal.Width'], errors = 'coerce')\n",
    "\n",
    "input_data.info()"
   ]
  },
  {
   "cell_type": "code",
   "execution_count": 7,
   "metadata": {},
   "outputs": [
    {
     "name": "stdout",
     "output_type": "stream",
     "text": [
      "    Sepal.Length  Sepal.Width  Petal.Length  Petal.Width     Species\n",
      "82           5.5          NaN           3.7          1.0  versicolor\n",
      "------------------\n",
      "     Sepal.Length  Sepal.Width  Petal.Length  Petal.Width    Species\n",
      "133           6.4          2.8           5.6          NaN  virginica\n"
     ]
    }
   ],
   "source": [
    "nan_rows_sepwidth = input_data[input_data['Sepal.Width'].isnull()]\n",
    "nan_rows_petwidth = input_data[input_data['Petal.Width'].isnull()]\n",
    "print(nan_rows_sepwidth)\n",
    "print('------------------')\n",
    "print(nan_rows_petwidth)"
   ]
  },
  {
   "cell_type": "code",
   "execution_count": 8,
   "metadata": {},
   "outputs": [
    {
     "data": {
      "text/html": [
       "<div>\n",
       "<style scoped>\n",
       "    .dataframe tbody tr th:only-of-type {\n",
       "        vertical-align: middle;\n",
       "    }\n",
       "\n",
       "    .dataframe tbody tr th {\n",
       "        vertical-align: top;\n",
       "    }\n",
       "\n",
       "    .dataframe thead th {\n",
       "        text-align: right;\n",
       "    }\n",
       "</style>\n",
       "<table border=\"1\" class=\"dataframe\">\n",
       "  <thead>\n",
       "    <tr style=\"text-align: right;\">\n",
       "      <th></th>\n",
       "      <th>Sepal.Length</th>\n",
       "      <th>Sepal.Width</th>\n",
       "      <th>Petal.Length</th>\n",
       "      <th>Petal.Width</th>\n",
       "    </tr>\n",
       "  </thead>\n",
       "  <tbody>\n",
       "    <tr>\n",
       "      <th>count</th>\n",
       "      <td>150.000000</td>\n",
       "      <td>149.000000</td>\n",
       "      <td>150.000000</td>\n",
       "      <td>149.000000</td>\n",
       "    </tr>\n",
       "    <tr>\n",
       "      <th>mean</th>\n",
       "      <td>5.779333</td>\n",
       "      <td>3.061745</td>\n",
       "      <td>3.758000</td>\n",
       "      <td>1.192617</td>\n",
       "    </tr>\n",
       "    <tr>\n",
       "      <th>std</th>\n",
       "      <td>1.197721</td>\n",
       "      <td>0.433963</td>\n",
       "      <td>1.765298</td>\n",
       "      <td>0.760343</td>\n",
       "    </tr>\n",
       "    <tr>\n",
       "      <th>min</th>\n",
       "      <td>-4.800000</td>\n",
       "      <td>2.000000</td>\n",
       "      <td>1.000000</td>\n",
       "      <td>0.100000</td>\n",
       "    </tr>\n",
       "    <tr>\n",
       "      <th>25%</th>\n",
       "      <td>5.100000</td>\n",
       "      <td>2.800000</td>\n",
       "      <td>1.600000</td>\n",
       "      <td>0.300000</td>\n",
       "    </tr>\n",
       "    <tr>\n",
       "      <th>50%</th>\n",
       "      <td>5.800000</td>\n",
       "      <td>3.000000</td>\n",
       "      <td>4.350000</td>\n",
       "      <td>1.300000</td>\n",
       "    </tr>\n",
       "    <tr>\n",
       "      <th>75%</th>\n",
       "      <td>6.400000</td>\n",
       "      <td>3.300000</td>\n",
       "      <td>5.100000</td>\n",
       "      <td>1.800000</td>\n",
       "    </tr>\n",
       "    <tr>\n",
       "      <th>max</th>\n",
       "      <td>7.900000</td>\n",
       "      <td>4.400000</td>\n",
       "      <td>6.900000</td>\n",
       "      <td>2.500000</td>\n",
       "    </tr>\n",
       "  </tbody>\n",
       "</table>\n",
       "</div>"
      ],
      "text/plain": [
       "       Sepal.Length  Sepal.Width  Petal.Length  Petal.Width\n",
       "count    150.000000   149.000000    150.000000   149.000000\n",
       "mean       5.779333     3.061745      3.758000     1.192617\n",
       "std        1.197721     0.433963      1.765298     0.760343\n",
       "min       -4.800000     2.000000      1.000000     0.100000\n",
       "25%        5.100000     2.800000      1.600000     0.300000\n",
       "50%        5.800000     3.000000      4.350000     1.300000\n",
       "75%        6.400000     3.300000      5.100000     1.800000\n",
       "max        7.900000     4.400000      6.900000     2.500000"
      ]
     },
     "execution_count": 8,
     "metadata": {},
     "output_type": "execute_result"
    }
   ],
   "source": [
    "input_data.describe()"
   ]
  },
  {
   "cell_type": "markdown",
   "metadata": {},
   "source": [
    "At this point, two problems become apparent. Firstly, numeric data contained NaN values which needed to be replaced before training a model. Secondly, the minimum of 'Sepal.Length' was -4.8, which was not an acceptable value since it represented length. It needed to always be higher than 0. It can be assumed that the minus sign was put there as a mistake, and a value of 4.8 was valid (it falls less than one standard deviation from the mean of the column). These errors needed to be taken into consideration in the later stage of data preprocessing."
   ]
  },
  {
   "cell_type": "markdown",
   "metadata": {},
   "source": [
    "Moving on, it was noticed that labels are represented as strings. To train a model, they needed to be transformed into integers. The important observation was that the number of samples in each class was equal."
   ]
  },
  {
   "cell_type": "code",
   "execution_count": 9,
   "metadata": {},
   "outputs": [
    {
     "data": {
      "text/plain": [
       "setosa        50\n",
       "versicolor    50\n",
       "virginica     50\n",
       "Name: Species, dtype: int64"
      ]
     },
     "execution_count": 9,
     "metadata": {},
     "output_type": "execute_result"
    }
   ],
   "source": [
    "input_data['Species'].value_counts()"
   ]
  },
  {
   "cell_type": "code",
   "execution_count": 10,
   "metadata": {},
   "outputs": [
    {
     "data": {
      "text/plain": [
       "1    3\n",
       "2    3\n",
       "3    3\n",
       "4    3\n",
       "5    3\n",
       "Name: Species, dtype: int64"
      ]
     },
     "execution_count": 10,
     "metadata": {},
     "output_type": "execute_result"
    }
   ],
   "source": [
    "def LabelToInteger(label):\n",
    "    if label == 'virginica':\n",
    "        return 1\n",
    "    if label == 'versicolor':\n",
    "        return 2\n",
    "    if label == 'setosa':\n",
    "        return 3\n",
    "    \n",
    "label_mapper = {1 : 'Virginica', 2 : 'Versicolor', 3 : 'Setosa'}\n",
    "\n",
    "input_data['Species'] = input_data['Species'].apply(LabelToInteger)\n",
    "\n",
    "input_data['Species'].head()"
   ]
  },
  {
   "cell_type": "markdown",
   "metadata": {},
   "source": [
    "## Data visualization"
   ]
  },
  {
   "cell_type": "code",
   "execution_count": 11,
   "metadata": {},
   "outputs": [
    {
     "data": {
      "text/plain": [
       "array([[<matplotlib.axes._subplots.AxesSubplot object at 0x7fb8b71b0828>,\n",
       "        <matplotlib.axes._subplots.AxesSubplot object at 0x7fb8b4852978>],\n",
       "       [<matplotlib.axes._subplots.AxesSubplot object at 0x7fb8b4807ef0>,\n",
       "        <matplotlib.axes._subplots.AxesSubplot object at 0x7fb8b47c34e0>]],\n",
       "      dtype=object)"
      ]
     },
     "execution_count": 11,
     "metadata": {},
     "output_type": "execute_result"
    },
    {
     "data": {
      "image/png": "[encoded data removed]",
      "text/plain": [
       "<Figure size 864x720 with 4 Axes>"
      ]
     },
     "metadata": {
      "needs_background": "light"
     },
     "output_type": "display_data"
    }
   ],
   "source": [
    "input_data.hist(column = ['Petal.Length', 'Petal.Width', 'Sepal.Length', 'Sepal.Width'],\n",
    "                bins = 25, figsize = (12, 10))"
   ]
  },
  {
   "cell_type": "markdown",
   "metadata": {},
   "source": [
    "The histograms of features were visualized to further inspect the properties of their distributions. It can be noticed that petals' sizes are divisible into two subgroups: 1\"-2\" and about 3\"-7\" for length and 0.1\"-0.6\" and 1\"-2.5\" for width. This characteristic can be an important factor in classification. Sepal length and sepal width are closer to being bell-shaped. What's more, the one sample mistakenly labeled as having negative sepal length is clearly visible. "
   ]
  },
  {
   "cell_type": "markdown",
   "metadata": {},
   "source": [
    "Before moving on, the input set needed to be split into training and test sets. To ensure equal distribution of output classes in both sets, StratifiedShuffleSplit class was used. The data was split with 0.2 ratio, which led to 120 samples falling in the training set and 30 samples in the test set. Each classes' examples make up 1/3 of each set."
   ]
  },
  {
   "cell_type": "code",
   "execution_count": 12,
   "metadata": {},
   "outputs": [
    {
     "data": {
      "text/plain": [
       "3    10\n",
       "2    10\n",
       "1    10\n",
       "Name: Species, dtype: int64"
      ]
     },
     "execution_count": 12,
     "metadata": {},
     "output_type": "execute_result"
    }
   ],
   "source": [
    "from sklearn.model_selection import StratifiedShuffleSplit\n",
    "\n",
    "equal_split = StratifiedShuffleSplit(n_splits = 1, test_size = 0.2, random_state = 42)\n",
    "\n",
    "for train_id, test_id in equal_split.split(input_data, input_data['Species']):\n",
    "    train_set = input_data.loc[train_id + 1]\n",
    "    test_set = input_data.loc[test_id + 1]\n",
    "    \n",
    "test_set['Species'].value_counts()"
   ]
  },
  {
   "cell_type": "code",
   "execution_count": 13,
   "metadata": {},
   "outputs": [],
   "source": [
    "irises_train = train_set.copy()"
   ]
  },
  {
   "cell_type": "code",
   "execution_count": 14,
   "metadata": {},
   "outputs": [
    {
     "data": {
      "text/plain": [
       "array([[<matplotlib.axes._subplots.AxesSubplot object at 0x7fb8a9241c50>,\n",
       "        <matplotlib.axes._subplots.AxesSubplot object at 0x7fb8a8daec88>,\n",
       "        <matplotlib.axes._subplots.AxesSubplot object at 0x7fb8a8d63dd8>,\n",
       "        <matplotlib.axes._subplots.AxesSubplot object at 0x7fb8a8d21160>],\n",
       "       [<matplotlib.axes._subplots.AxesSubplot object at 0x7fb8a8cd4710>,\n",
       "        <matplotlib.axes._subplots.AxesSubplot object at 0x7fb8a8c85cc0>,\n",
       "        <matplotlib.axes._subplots.AxesSubplot object at 0x7fb8a8c422b0>,\n",
       "        <matplotlib.axes._subplots.AxesSubplot object at 0x7fb8a8c73898>],\n",
       "       [<matplotlib.axes._subplots.AxesSubplot object at 0x7fb8a8c738d0>,\n",
       "        <matplotlib.axes._subplots.AxesSubplot object at 0x7fb8a8be2400>,\n",
       "        <matplotlib.axes._subplots.AxesSubplot object at 0x7fb8a8b939b0>,\n",
       "        <matplotlib.axes._subplots.AxesSubplot object at 0x7fb8a8b44f60>],\n",
       "       [<matplotlib.axes._subplots.AxesSubplot object at 0x7fb8a8b02550>,\n",
       "        <matplotlib.axes._subplots.AxesSubplot object at 0x7fb8a8b31b00>,\n",
       "        <matplotlib.axes._subplots.AxesSubplot object at 0x7fb8a8af40f0>,\n",
       "        <matplotlib.axes._subplots.AxesSubplot object at 0x7fb8a8aa36a0>]],\n",
       "      dtype=object)"
      ]
     },
     "execution_count": 14,
     "metadata": {},
     "output_type": "execute_result"
    },
    {
     "data": {
      "image/png": "[encoded data removed]",
      "text/plain": [
       "<Figure size 720x576 with 16 Axes>"
      ]
     },
     "metadata": {
      "needs_background": "light"
     },
     "output_type": "display_data"
    }
   ],
   "source": [
    "from pandas.plotting import scatter_matrix\n",
    "\n",
    "attributes = [\"Sepal.Length\", \"Sepal.Width\", \"Petal.Length\", \"Petal.Width\"]\n",
    "scatter_matrix(irises_train[attributes], alpha = 0.8, figsize = (10, 8), grid = True)"
   ]
  },
  {
   "cell_type": "markdown",
   "metadata": {},
   "source": [
    "In order to obtain more information about the relationships of features, a *scatter matrix* was visualized. This function plots features against each other, which is helpful for discovering correlated attributes. In this case, it is apparent that e.g. petal's width and length are strongly tied which each other. The same applies to petal's and sepal's lengths. These relationships were visualized in a way to distinguish each classes' samples."
   ]
  },
  {
   "cell_type": "code",
   "execution_count": 15,
   "metadata": {},
   "outputs": [
    {
     "data": {
      "image/png": "[encoded data removed]",
      "text/plain": [
       "<Figure size 576x432 with 1 Axes>"
      ]
     },
     "metadata": {
      "needs_background": "light"
     },
     "output_type": "display_data"
    }
   ],
   "source": [
    "import matplotlib.pyplot as plt\n",
    "import matplotlib.lines as matlines\n",
    "%matplotlib inline\n",
    "\n",
    "pg = matlines.Line2D([], [], color = 'green', marker = 'p', \n",
    "                     linestyle = 'None', markersize = 10, label = label_mapper[1])\n",
    "to = matlines.Line2D([], [], color = 'orange', marker = '^', \n",
    "                     linestyle = 'None', markersize = 10, label = label_mapper[2])\n",
    "og = matlines.Line2D([], [], color = 'blue', marker = 'o', \n",
    "                     linestyle = 'None', markersize = 10, label = label_mapper[3])\n",
    "\n",
    "plt.figure(figsize = (8, 6))\n",
    "plt.scatter(irises_train['Petal.Length'].loc[irises_train['Species'] == 1], \n",
    "            irises_train['Petal.Width'].loc[irises_train['Species'] == 1],\n",
    "            s = 50, color = 'green', marker = 'p')\n",
    "plt.scatter(irises_train['Petal.Length'].loc[irises_train['Species'] == 2], \n",
    "            irises_train['Petal.Width'].loc[irises_train['Species'] == 2], \n",
    "            s = 50, color = 'orange', marker = '^')\n",
    "plt.scatter(irises_train['Petal.Length'].loc[irises_train['Species'] == 3], \n",
    "            irises_train['Petal.Width'].loc[irises_train['Species'] == 3], \n",
    "            s = 50, color = 'blue', marker = 'o')\n",
    "plt.legend(handles = [pg, to, og], loc = 'upper left')\n",
    "plt.xlabel('Petal Length')\n",
    "plt.ylabel('Petal Width')\n",
    "plt.grid(True)\n",
    "plt.show()"
   ]
  },
  {
   "cell_type": "code",
   "execution_count": 16,
   "metadata": {},
   "outputs": [
    {
     "data": {
      "image/png": "[encoded data removed]",
      "text/plain": [
       "<Figure size 576x432 with 1 Axes>"
      ]
     },
     "metadata": {
      "needs_background": "light"
     },
     "output_type": "display_data"
    }
   ],
   "source": [
    "plt.figure(figsize = (8, 6))\n",
    "plt.scatter(irises_train['Petal.Length'].loc[irises_train['Species'] == 1], \n",
    "            irises_train['Sepal.Length'].loc[irises_train['Species'] == 1],\n",
    "            s = 50, color = 'green', marker = 'p')\n",
    "plt.scatter(irises_train['Petal.Length'].loc[irises_train['Species'] == 2], \n",
    "            irises_train['Sepal.Length'].loc[irises_train['Species'] == 2], \n",
    "            s = 50, color = 'orange', marker = '^')\n",
    "plt.scatter(irises_train['Petal.Length'].loc[irises_train['Species'] == 3], \n",
    "            irises_train['Sepal.Length'].loc[irises_train['Species'] == 3], \n",
    "            s = 50, color = 'blue', marker = 'o')\n",
    "plt.legend(handles = [pg, to, og], loc = 'lower right')\n",
    "plt.xlabel('Petal Length')\n",
    "plt.ylabel('Sepal Length')\n",
    "plt.grid(True)\n",
    "plt.show()"
   ]
  },
  {
   "cell_type": "markdown",
   "metadata": {},
   "source": [
    "The visualization brought a lot of new information: it is easy to notice that the three sets are almost perfectly linearly separable. The only possible confusion can occur regarding a few *virginica* / *versicolor* samples - it is impossible to assign a linear decision boundary to correctly and fully separate them (at least in spaces examined here). *Setosa* samples are clearly clustered. There should not be any problems correctly classifying them. "
   ]
  },
  {
   "cell_type": "markdown",
   "metadata": {},
   "source": [
    "## Data preprocessing\n",
    "\n",
    "As a next step, a data processing pipeline was implemented to prepare the training set for use in machine learning algorithms. DataFrameSelector class was drawn from the book mentioned in the introduction and its puropse is to convert Pandas DataFrame into an iterable structure suitable for scikit-learn methods. NegativeValTransformer takes care of negative and zero values in the data set - it flips the sign if a value is less than 0, and returns NaN if it is equal to 0. The pipeline also consits of SimpleImputer - a class which fills missing values in the set. In this case, if it finds NaN, it changes it into a positive value equal to the median of the current column. StandardScaler standarizes features by subtracting the mean and scaling to unit variance. This step is often necessary to achieve satisfactory performance of the model, e.g. in the case of support vector machines.\n",
    "\n",
    "With the data set this small these operations could have been performed manually as well. Writing functions seems to be a better practice since they operate in the same way even on sets that are too large to by handled by hand."
   ]
  },
  {
   "cell_type": "code",
   "execution_count": 17,
   "metadata": {},
   "outputs": [],
   "source": [
    "irises_feats = irises_train.drop('Species', axis = 1)\n",
    "irises_labels = irises_train['Species'].copy()"
   ]
  },
  {
   "cell_type": "code",
   "execution_count": 18,
   "metadata": {},
   "outputs": [],
   "source": [
    "from sklearn.base import BaseEstimator, TransformerMixin\n",
    "\n",
    "class DataFrameSelector(BaseEstimator, TransformerMixin):\n",
    "    def __init__(self, attribute_names = None):\n",
    "        self.attribute_names = attribute_names\n",
    "    def fit(self, X, y = None):\n",
    "        return self\n",
    "    def transform(self, X):\n",
    "        if self.attribute_names != None:\n",
    "            return X[self.attribute_names].values\n",
    "        else:\n",
    "            return X.values\n",
    "        \n",
    "\n",
    "class NegativeValTransformer(BaseEstimator, TransformerMixin):\n",
    "    def __init__(self, attribute_names = None):\n",
    "        self.attribute_names = attribute_names\n",
    "    def fit(self, X, y = None):\n",
    "        return self\n",
    "    def val_trans(self, num):\n",
    "        if num < 0:\n",
    "            return -num\n",
    "        if num == 0:\n",
    "            return np.nan\n",
    "        if num > 0:\n",
    "            return num\n",
    "    def transform(self, X):\n",
    "        if self.attribute_names != None:\n",
    "            X[self.attribute_names] = X[self.attribute_names].apply(self.val_trans)\n",
    "        else:\n",
    "            for column in X.columns:\n",
    "                X[column] = X[column].apply(self.val_trans)\n",
    "        return X"
   ]
  },
  {
   "cell_type": "code",
   "execution_count": 22,
   "metadata": {},
   "outputs": [],
   "source": [
    "from sklearn.pipeline import Pipeline\n",
    "from sklearn.preprocessing import StandardScaler\n",
    "from sklearn.impute import SimpleImputer\n",
    "\n",
    "features_pipeline = Pipeline([('negative_transformer', NegativeValTransformer('Sepal.Length')),\n",
    "                              ('selector', DataFrameSelector()), \n",
    "                              ('imputer', SimpleImputer(strategy = \"median\")),\n",
    "                              ('standard_scaler', StandardScaler()),\n",
    "                             ])\n",
    "irises_feats_transformed = features_pipeline.fit_transform(irises_feats)"
   ]
  },
  {
   "cell_type": "code",
   "execution_count": 26,
   "metadata": {},
   "outputs": [
    {
     "name": "stdout",
     "output_type": "stream",
     "text": [
      "NaN elements in features:  False\n"
     ]
    }
   ],
   "source": [
    "print('NaN elements in features: ', np.isnan(np.sum(irises_feats_transformed)))"
   ]
  },
  {
   "cell_type": "code",
   "execution_count": 27,
   "metadata": {},
   "outputs": [
    {
     "data": {
      "text/plain": [
       "(120, 4)"
      ]
     },
     "execution_count": 27,
     "metadata": {},
     "output_type": "execute_result"
    }
   ],
   "source": [
    "irises_feats_transformed.shape"
   ]
  },
  {
   "cell_type": "markdown",
   "metadata": {},
   "source": [
    "## Model choice\n",
    "\n",
    "After data was cleaned and transformed, it was possible to begin the process of choosing the right machine learning model. 5 different algorithms were chosen to be assessed: multinomial logistic regression (softmax regression), linear support vector classification, decision tree classification and two ensemble learning methods: hard voting classifier using 3 previous methods and random decision forest. The hyperparameters at that step were mostly set to default. 5-fold cross-validation was used to test the models, and accuracy was used as a main metric."
   ]
  },
  {
   "cell_type": "code",
   "execution_count": 29,
   "metadata": {},
   "outputs": [
    {
     "data": {
      "text/plain": [
       "array([1.        , 0.91666667, 0.95833333, 0.95833333, 0.95833333])"
      ]
     },
     "execution_count": 29,
     "metadata": {},
     "output_type": "execute_result"
    }
   ],
   "source": [
    "from sklearn.model_selection import cross_val_score\n",
    "from sklearn.linear_model import LogisticRegression\n",
    "\n",
    "softmax_cls = LogisticRegression(C = 10.0, solver = 'lbfgs', multi_class = 'multinomial')\n",
    "\n",
    "cross_val_score(softmax_cls, irises_feats_transformed, irises_labels, cv = 5, scoring = 'accuracy')"
   ]
  },
  {
   "cell_type": "code",
   "execution_count": 30,
   "metadata": {},
   "outputs": [
    {
     "data": {
      "text/plain": [
       "array([0.95833333, 0.875     , 0.91666667, 0.875     , 0.95833333])"
      ]
     },
     "execution_count": 30,
     "metadata": {},
     "output_type": "execute_result"
    }
   ],
   "source": [
    "from  sklearn.svm import LinearSVC\n",
    "\n",
    "svm_cls = LinearSVC(loss = 'hinge', C = 10.0, multi_class = 'ovr', max_iter = 10000)\n",
    "\n",
    "cross_val_score(svm_cls, irises_feats_transformed, irises_labels, cv = 5, scoring = 'accuracy')"
   ]
  },
  {
   "cell_type": "code",
   "execution_count": 31,
   "metadata": {},
   "outputs": [
    {
     "data": {
      "text/plain": [
       "array([0.91666667, 0.91666667, 0.95833333, 0.91666667, 0.95833333])"
      ]
     },
     "execution_count": 31,
     "metadata": {},
     "output_type": "execute_result"
    }
   ],
   "source": [
    "from sklearn.tree import DecisionTreeClassifier\n",
    "\n",
    "dtree_cls = DecisionTreeClassifier(splitter = 'best', max_depth = 2)\n",
    "\n",
    "cross_val_score(dtree_cls, irises_feats_transformed, irises_labels, cv = 5, scoring = 'accuracy')"
   ]
  },
  {
   "cell_type": "code",
   "execution_count": 32,
   "metadata": {},
   "outputs": [
    {
     "data": {
      "text/plain": [
       "array([1.        , 0.91666667, 0.95833333, 0.91666667, 0.95833333])"
      ]
     },
     "execution_count": 32,
     "metadata": {},
     "output_type": "execute_result"
    }
   ],
   "source": [
    "from sklearn.ensemble import VotingClassifier\n",
    "\n",
    "voting_cls = VotingClassifier(estimators = [('softmax', softmax_cls), \n",
    "                                            ('svm', svm_cls), \n",
    "                                            ('dectree', dtree_cls)], voting = 'hard')\n",
    "\n",
    "cross_val_score(voting_cls, irises_feats_transformed, irises_labels, cv = 5, scoring = 'accuracy')"
   ]
  },
  {
   "cell_type": "code",
   "execution_count": 33,
   "metadata": {},
   "outputs": [
    {
     "data": {
      "text/plain": [
       "array([0.875     , 0.91666667, 0.95833333, 0.95833333, 1.        ])"
      ]
     },
     "execution_count": 33,
     "metadata": {},
     "output_type": "execute_result"
    }
   ],
   "source": [
    "from sklearn.ensemble import RandomForestClassifier\n",
    "\n",
    "rndforest_cls = RandomForestClassifier(n_estimators = 100, max_depth = 2, n_jobs = -1)\n",
    "\n",
    "cross_val_score(rndforest_cls, irises_feats_transformed, irises_labels, cv = 5, scoring = 'accuracy')"
   ]
  },
  {
   "cell_type": "markdown",
   "metadata": {},
   "source": [
    "It turns out that all of the models perform very well, being close to perfect with their predictions. This fact provides relative liberty when it comes to deciding on the final algorithm. Given simplicity of the architecture and very high, consistent accuracy scores, **softmax regression** was used as a final method."
   ]
  },
  {
   "cell_type": "markdown",
   "metadata": {},
   "source": [
    "## Hyperparameter tuning\n",
    "\n",
    "Grid search method was used to find the optimal parameters for the LogisticRegression class. In particular, the elements chosen to be tuned were: *C*, the inverse of regularization strength (high values indicate less regularization), *fit_intercept*, a constant added to the decision function and a *solver* function. The scores were then listed to provide a way to compare results. "
   ]
  },
  {
   "cell_type": "code",
   "execution_count": 34,
   "metadata": {
    "scrolled": true
   },
   "outputs": [
    {
     "name": "stdout",
     "output_type": "stream",
     "text": [
      "Score:  0.88333 {'C': 0.1, 'fit_intercept': True, 'max_iter': 10000, 'solver': 'lbfgs', 'warm_start': False}\n",
      "Score:  0.88333 {'C': 0.1, 'fit_intercept': True, 'max_iter': 10000, 'solver': 'newton-cg', 'warm_start': False}\n",
      "Score:  0.88333 {'C': 0.1, 'fit_intercept': True, 'max_iter': 10000, 'solver': 'sag', 'warm_start': False}\n",
      "Score:  0.88333 {'C': 0.1, 'fit_intercept': True, 'max_iter': 10000, 'solver': 'saga', 'warm_start': False}\n",
      "Score:  0.84167 {'C': 0.1, 'fit_intercept': False, 'max_iter': 10000, 'solver': 'lbfgs', 'warm_start': False}\n",
      "Score:  0.84167 {'C': 0.1, 'fit_intercept': False, 'max_iter': 10000, 'solver': 'newton-cg', 'warm_start': False}\n",
      "Score:  0.84167 {'C': 0.1, 'fit_intercept': False, 'max_iter': 10000, 'solver': 'sag', 'warm_start': False}\n",
      "Score:  0.84167 {'C': 0.1, 'fit_intercept': False, 'max_iter': 10000, 'solver': 'saga', 'warm_start': False}\n",
      "Score:  0.94167 {'C': 1, 'fit_intercept': True, 'max_iter': 10000, 'solver': 'lbfgs', 'warm_start': False}\n",
      "Score:  0.94167 {'C': 1, 'fit_intercept': True, 'max_iter': 10000, 'solver': 'newton-cg', 'warm_start': False}\n",
      "Score:  0.94167 {'C': 1, 'fit_intercept': True, 'max_iter': 10000, 'solver': 'sag', 'warm_start': False}\n",
      "Score:  0.94167 {'C': 1, 'fit_intercept': True, 'max_iter': 10000, 'solver': 'saga', 'warm_start': False}\n",
      "Score:  0.84167 {'C': 1, 'fit_intercept': False, 'max_iter': 10000, 'solver': 'lbfgs', 'warm_start': False}\n",
      "Score:  0.84167 {'C': 1, 'fit_intercept': False, 'max_iter': 10000, 'solver': 'newton-cg', 'warm_start': False}\n",
      "Score:  0.84167 {'C': 1, 'fit_intercept': False, 'max_iter': 10000, 'solver': 'sag', 'warm_start': False}\n",
      "Score:  0.84167 {'C': 1, 'fit_intercept': False, 'max_iter': 10000, 'solver': 'saga', 'warm_start': False}\n",
      "Score:  0.95833 {'C': 10, 'fit_intercept': True, 'max_iter': 10000, 'solver': 'lbfgs', 'warm_start': False}\n",
      "Score:  0.95833 {'C': 10, 'fit_intercept': True, 'max_iter': 10000, 'solver': 'newton-cg', 'warm_start': False}\n",
      "Score:  0.95833 {'C': 10, 'fit_intercept': True, 'max_iter': 10000, 'solver': 'sag', 'warm_start': False}\n",
      "Score:  0.95833 {'C': 10, 'fit_intercept': True, 'max_iter': 10000, 'solver': 'saga', 'warm_start': False}\n",
      "Score:  0.85 {'C': 10, 'fit_intercept': False, 'max_iter': 10000, 'solver': 'lbfgs', 'warm_start': False}\n",
      "Score:  0.85 {'C': 10, 'fit_intercept': False, 'max_iter': 10000, 'solver': 'newton-cg', 'warm_start': False}\n",
      "Score:  0.85 {'C': 10, 'fit_intercept': False, 'max_iter': 10000, 'solver': 'sag', 'warm_start': False}\n",
      "Score:  0.85 {'C': 10, 'fit_intercept': False, 'max_iter': 10000, 'solver': 'saga', 'warm_start': False}\n",
      "Score:  0.95833 {'C': 100, 'fit_intercept': True, 'max_iter': 10000, 'solver': 'lbfgs', 'warm_start': False}\n",
      "Score:  0.95833 {'C': 100, 'fit_intercept': True, 'max_iter': 10000, 'solver': 'newton-cg', 'warm_start': False}\n",
      "Score:  0.95833 {'C': 100, 'fit_intercept': True, 'max_iter': 10000, 'solver': 'sag', 'warm_start': False}\n",
      "Score:  0.95833 {'C': 100, 'fit_intercept': True, 'max_iter': 10000, 'solver': 'saga', 'warm_start': False}\n",
      "Score:  0.85 {'C': 100, 'fit_intercept': False, 'max_iter': 10000, 'solver': 'lbfgs', 'warm_start': False}\n",
      "Score:  0.85 {'C': 100, 'fit_intercept': False, 'max_iter': 10000, 'solver': 'newton-cg', 'warm_start': False}\n",
      "Score:  0.85 {'C': 100, 'fit_intercept': False, 'max_iter': 10000, 'solver': 'sag', 'warm_start': False}\n",
      "Score:  0.85 {'C': 100, 'fit_intercept': False, 'max_iter': 10000, 'solver': 'saga', 'warm_start': False}\n"
     ]
    }
   ],
   "source": [
    "from sklearn.model_selection import GridSearchCV\n",
    "\n",
    "parameters_grid = [ {'C' : [0.1, 1, 10, 100], 'fit_intercept' : [True, False], \n",
    "                     'solver' : ['lbfgs', 'newton-cg', 'sag', 'saga'], 'max_iter' : [10000], \n",
    "                     'warm_start' : [False]} ]\n",
    "\n",
    "grid_search_cv = GridSearchCV(softmax_cls, parameters_grid, cv = 5, scoring = 'accuracy')\n",
    "\n",
    "grid_search_cv.fit(irises_feats_transformed, irises_labels)\n",
    "\n",
    "results = grid_search_cv.cv_results_\n",
    "\n",
    "for accuracy, parameters in zip(results['mean_test_score'], results['params']):\n",
    "    print('Score: ', round(accuracy, 5), parameters)"
   ]
  },
  {
   "cell_type": "code",
   "execution_count": 35,
   "metadata": {},
   "outputs": [
    {
     "data": {
      "text/plain": [
       "{'C': 10,\n",
       " 'fit_intercept': True,\n",
       " 'max_iter': 10000,\n",
       " 'solver': 'lbfgs',\n",
       " 'warm_start': False}"
      ]
     },
     "execution_count": 35,
     "metadata": {},
     "output_type": "execute_result"
    }
   ],
   "source": [
    "grid_search_cv.best_params_"
   ]
  },
  {
   "cell_type": "markdown",
   "metadata": {},
   "source": [
    "## Model testing\n",
    "\n",
    "The chosen, tuned final model was then used to predict classes for the training and test sets. The metrics used were accuracy and a confusion matrix. Of course, the test set was also transformed with the existing pipeline."
   ]
  },
  {
   "cell_type": "code",
   "execution_count": 36,
   "metadata": {},
   "outputs": [
    {
     "name": "stdout",
     "output_type": "stream",
     "text": [
      "Final accuracy of the model for the training set:  0.975 \n",
      "\n"
     ]
    },
    {
     "data": {
      "text/html": [
       "<div>\n",
       "<style scoped>\n",
       "    .dataframe tbody tr th:only-of-type {\n",
       "        vertical-align: middle;\n",
       "    }\n",
       "\n",
       "    .dataframe tbody tr th {\n",
       "        vertical-align: top;\n",
       "    }\n",
       "\n",
       "    .dataframe thead th {\n",
       "        text-align: right;\n",
       "    }\n",
       "</style>\n",
       "<table border=\"1\" class=\"dataframe\">\n",
       "  <thead>\n",
       "    <tr style=\"text-align: right;\">\n",
       "      <th></th>\n",
       "      <th>P Virginica</th>\n",
       "      <th>P Versicolor</th>\n",
       "      <th>P Setosa</th>\n",
       "    </tr>\n",
       "  </thead>\n",
       "  <tbody>\n",
       "    <tr>\n",
       "      <th>T Virginica</th>\n",
       "      <td>39</td>\n",
       "      <td>1</td>\n",
       "      <td>0</td>\n",
       "    </tr>\n",
       "    <tr>\n",
       "      <th>T Versicolor</th>\n",
       "      <td>2</td>\n",
       "      <td>38</td>\n",
       "      <td>0</td>\n",
       "    </tr>\n",
       "    <tr>\n",
       "      <th>T Setosa</th>\n",
       "      <td>0</td>\n",
       "      <td>0</td>\n",
       "      <td>40</td>\n",
       "    </tr>\n",
       "  </tbody>\n",
       "</table>\n",
       "</div>"
      ],
      "text/plain": [
       "              P Virginica  P Versicolor  P Setosa\n",
       "T Virginica            39             1         0\n",
       "T Versicolor            2            38         0\n",
       "T Setosa                0             0        40"
      ]
     },
     "execution_count": 36,
     "metadata": {},
     "output_type": "execute_result"
    }
   ],
   "source": [
    "from sklearn.model_selection import cross_val_predict\n",
    "from sklearn.metrics import confusion_matrix\n",
    "from sklearn.metrics import accuracy_score\n",
    "\n",
    "def confusion_matrix_format(predicted_labels, labels):\n",
    "    \n",
    "    confusion_mx = confusion_matrix(labels, predicted_labels)\n",
    "    confusion_frame = pd.DataFrame(confusion_mx, \n",
    "                                   index = ['T Virginica', 'T Versicolor', 'T Setosa'], \n",
    "                                   columns = ['P Virginica', 'P Versicolor', 'P Setosa'])\n",
    "\n",
    "    return confusion_frame\n",
    "\n",
    "final_model = grid_search_cv.best_estimator_\n",
    "\n",
    "irises_labels_predictions = final_model.predict(irises_feats_transformed)\n",
    "final_test_score = accuracy_score(irises_labels, irises_labels_predictions)\n",
    "\n",
    "print('Final accuracy of the model for the training set: ', final_test_score, '\\n')\n",
    "confusion_matrix_format(irises_labels_predictions, irises_labels)"
   ]
  },
  {
   "cell_type": "code",
   "execution_count": 37,
   "metadata": {},
   "outputs": [
    {
     "name": "stdout",
     "output_type": "stream",
     "text": [
      "Final accuracy of the model for the test set:  0.9666666666666667 \n",
      "\n"
     ]
    },
    {
     "data": {
      "text/html": [
       "<div>\n",
       "<style scoped>\n",
       "    .dataframe tbody tr th:only-of-type {\n",
       "        vertical-align: middle;\n",
       "    }\n",
       "\n",
       "    .dataframe tbody tr th {\n",
       "        vertical-align: top;\n",
       "    }\n",
       "\n",
       "    .dataframe thead th {\n",
       "        text-align: right;\n",
       "    }\n",
       "</style>\n",
       "<table border=\"1\" class=\"dataframe\">\n",
       "  <thead>\n",
       "    <tr style=\"text-align: right;\">\n",
       "      <th></th>\n",
       "      <th>P Virginica</th>\n",
       "      <th>P Versicolor</th>\n",
       "      <th>P Setosa</th>\n",
       "    </tr>\n",
       "  </thead>\n",
       "  <tbody>\n",
       "    <tr>\n",
       "      <th>T Virginica</th>\n",
       "      <td>10</td>\n",
       "      <td>0</td>\n",
       "      <td>0</td>\n",
       "    </tr>\n",
       "    <tr>\n",
       "      <th>T Versicolor</th>\n",
       "      <td>1</td>\n",
       "      <td>9</td>\n",
       "      <td>0</td>\n",
       "    </tr>\n",
       "    <tr>\n",
       "      <th>T Setosa</th>\n",
       "      <td>0</td>\n",
       "      <td>0</td>\n",
       "      <td>10</td>\n",
       "    </tr>\n",
       "  </tbody>\n",
       "</table>\n",
       "</div>"
      ],
      "text/plain": [
       "              P Virginica  P Versicolor  P Setosa\n",
       "T Virginica            10             0         0\n",
       "T Versicolor            1             9         0\n",
       "T Setosa                0             0        10"
      ]
     },
     "execution_count": 37,
     "metadata": {},
     "output_type": "execute_result"
    }
   ],
   "source": [
    "test_feats = test_set.drop('Species', axis = 1)\n",
    "test_labels = test_set['Species'].copy()\n",
    "\n",
    "test_feats_transformed = features_pipeline.transform(test_feats)\n",
    "\n",
    "test_labels_predictions = final_model.predict(test_feats_transformed)\n",
    "\n",
    "final_test_score = accuracy_score(test_labels, test_labels_predictions)\n",
    "\n",
    "print('Final accuracy of the model for the test set: ', final_test_score, '\\n')\n",
    "confusion_matrix_format(test_labels_predictions, test_labels)"
   ]
  },
  {
   "cell_type": "markdown",
   "metadata": {},
   "source": [
    "# Summary\n",
    "\n",
    "The model performed very well, achieving **97.5% accuracy for the training set and 96.7% accuracy for the test set**. As it turned out, classes in the data set were quite easily separable without the use of advanced and computionally expensive methods. The analysis of confusion matrices confirms previous conclusions: the model confused only the flowers belonging to *virginica* and *versicolor* classes, predicting the correct label for *setosa* flowers with 100% accuracy. Frankly, it seems that improving the model further in terms of accuracy of predictions is not really possible. Methods to test in the case of this data set include deeper inspection of ensemble methods that usually provide the highest scores and introduction of some combinations of features. Trying to retrieve missing data could help as well, but since the number of faulty values is very small it would not cause any drastical improvement."
   ]
  }
 ],
 "metadata": {
  "kernelspec": {
   "display_name": "Python 3",
   "language": "python",
   "name": "python3"
  },
  "language_info": {
   "codemirror_mode": {
    "name": "ipython",
    "version": 3
   },
   "file_extension": ".py",
   "mimetype": "text/x-python",
   "name": "python",
   "nbconvert_exporter": "python",
   "pygments_lexer": "ipython3",
   "version": "3.6.9"
  }
 },
 "nbformat": 4,
 "nbformat_minor": 4
}
